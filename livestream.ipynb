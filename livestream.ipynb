{
 "cells": [
  {
   "cell_type": "code",
   "execution_count": 30,
   "id": "fcec8755-b560-4313-bc69-4fb9252e411b",
   "metadata": {},
   "outputs": [],
   "source": [
    "import dask.dataframe as dd\n",
    "import dask.array as da\n",
    "import pandas as pd"
   ]
  },
  {
   "cell_type": "code",
   "execution_count": 1,
   "id": "1cf7837e-90c2-4b2b-b186-cd21b2a1a4c9",
   "metadata": {},
   "outputs": [
    {
     "data": {
      "text/html": [
       "<table style=\"border: 2px solid white;\">\n",
       "<tr>\n",
       "<td style=\"vertical-align: top; border: 0px solid white\">\n",
       "<h3 style=\"text-align: left;\">Client</h3>\n",
       "<ul style=\"text-align: left; list-style: none; margin: 0; padding: 0;\">\n",
       "  <li><b>Scheduler: </b>tcp://127.0.0.1:40985</li>\n",
       "  <li><b>Dashboard: </b><a href='http://127.0.0.1:8787/status' target='_blank'>http://127.0.0.1:8787/status</a></li>\n",
       "</ul>\n",
       "</td>\n",
       "<td style=\"vertical-align: top; border: 0px solid white\">\n",
       "<h3 style=\"text-align: left;\">Cluster</h3>\n",
       "<ul style=\"text-align: left; list-style:none; margin: 0; padding: 0;\">\n",
       "  <li><b>Workers: </b>4</li>\n",
       "  <li><b>Cores: </b>16</li>\n",
       "  <li><b>Memory: </b>31.01 GiB</li>\n",
       "</ul>\n",
       "</td>\n",
       "</tr>\n",
       "</table>"
      ],
      "text/plain": [
       "<Client: 'tcp://127.0.0.1:40985' processes=4 threads=16, memory=31.01 GiB>"
      ]
     },
     "execution_count": 1,
     "metadata": {},
     "output_type": "execute_result"
    }
   ],
   "source": [
    "from dask.distributed import Client\n",
    "\n",
    "client = Client(\"tcp://127.0.0.1:40985\")\n",
    "client"
   ]
  },
  {
   "cell_type": "markdown",
   "id": "ae56b818-e17f-4af7-87b0-d71f4ff90d80",
   "metadata": {},
   "source": [
    "# Generate increment across partitions"
   ]
  },
  {
   "cell_type": "code",
   "execution_count": 19,
   "id": "c34e171d-857a-4d1c-ad77-1d033f7dac64",
   "metadata": {},
   "outputs": [],
   "source": [
    "d = {'col1': [\"a\", \"b\", \"c\", \"d\"]}\n",
    "df = dd.from_pandas(pd.DataFrame(data=d), npartitions=2)\n",
    "df = df.reset_index(drop=True)"
   ]
  },
  {
   "cell_type": "code",
   "execution_count": 20,
   "id": "75cf49a3-c50a-4540-a7fa-706e9421f3ca",
   "metadata": {},
   "outputs": [
    {
     "data": {
      "text/html": [
       "<div>\n",
       "<style scoped>\n",
       "    .dataframe tbody tr th:only-of-type {\n",
       "        vertical-align: middle;\n",
       "    }\n",
       "\n",
       "    .dataframe tbody tr th {\n",
       "        vertical-align: top;\n",
       "    }\n",
       "\n",
       "    .dataframe thead th {\n",
       "        text-align: right;\n",
       "    }\n",
       "</style>\n",
       "<table border=\"1\" class=\"dataframe\">\n",
       "  <thead>\n",
       "    <tr style=\"text-align: right;\">\n",
       "      <th></th>\n",
       "      <th>col1</th>\n",
       "    </tr>\n",
       "  </thead>\n",
       "  <tbody>\n",
       "    <tr>\n",
       "      <th>0</th>\n",
       "      <td>a</td>\n",
       "    </tr>\n",
       "    <tr>\n",
       "      <th>1</th>\n",
       "      <td>b</td>\n",
       "    </tr>\n",
       "    <tr>\n",
       "      <th>0</th>\n",
       "      <td>c</td>\n",
       "    </tr>\n",
       "    <tr>\n",
       "      <th>1</th>\n",
       "      <td>d</td>\n",
       "    </tr>\n",
       "  </tbody>\n",
       "</table>\n",
       "</div>"
      ],
      "text/plain": [
       "  col1\n",
       "0    a\n",
       "1    b\n",
       "0    c\n",
       "1    d"
      ]
     },
     "execution_count": 20,
     "metadata": {},
     "output_type": "execute_result"
    }
   ],
   "source": [
    "df.compute()"
   ]
  },
  {
   "cell_type": "code",
   "execution_count": 26,
   "id": "e0a58847-0b31-4acc-9858-bd050196d54e",
   "metadata": {},
   "outputs": [
    {
     "data": {
      "text/plain": [
       "[2, 2]"
      ]
     },
     "execution_count": 26,
     "metadata": {},
     "output_type": "execute_result"
    }
   ],
   "source": [
    "chunks = df.map_partitions(len).compute().tolist()\n",
    "chunks"
   ]
  },
  {
   "cell_type": "code",
   "execution_count": 28,
   "id": "e65f7658-50fc-4bcb-8d9a-716c00a3e821",
   "metadata": {},
   "outputs": [
    {
     "data": {
      "text/plain": [
       "4"
      ]
     },
     "execution_count": 28,
     "metadata": {},
     "output_type": "execute_result"
    }
   ],
   "source": [
    "len_df = sum(chunks)\n",
    "len_df"
   ]
  },
  {
   "cell_type": "code",
   "execution_count": 31,
   "id": "b7b84631-5a92-4c84-8e44-b893f7f25bf6",
   "metadata": {},
   "outputs": [],
   "source": [
    "df[\"new_idx\"] = da.arange(1, len_df + 1, chunks=chunks)"
   ]
  },
  {
   "cell_type": "code",
   "execution_count": 33,
   "id": "d7361e8a-bcf8-4999-929d-6650f41749ad",
   "metadata": {},
   "outputs": [
    {
     "data": {
      "text/html": [
       "<div>\n",
       "<style scoped>\n",
       "    .dataframe tbody tr th:only-of-type {\n",
       "        vertical-align: middle;\n",
       "    }\n",
       "\n",
       "    .dataframe tbody tr th {\n",
       "        vertical-align: top;\n",
       "    }\n",
       "\n",
       "    .dataframe thead th {\n",
       "        text-align: right;\n",
       "    }\n",
       "</style>\n",
       "<table border=\"1\" class=\"dataframe\">\n",
       "  <thead>\n",
       "    <tr style=\"text-align: right;\">\n",
       "      <th></th>\n",
       "      <th>col1</th>\n",
       "      <th>new_idx</th>\n",
       "    </tr>\n",
       "  </thead>\n",
       "  <tbody>\n",
       "    <tr>\n",
       "      <th>0</th>\n",
       "      <td>a</td>\n",
       "      <td>1</td>\n",
       "    </tr>\n",
       "    <tr>\n",
       "      <th>1</th>\n",
       "      <td>b</td>\n",
       "      <td>2</td>\n",
       "    </tr>\n",
       "    <tr>\n",
       "      <th>0</th>\n",
       "      <td>c</td>\n",
       "      <td>3</td>\n",
       "    </tr>\n",
       "    <tr>\n",
       "      <th>1</th>\n",
       "      <td>d</td>\n",
       "      <td>4</td>\n",
       "    </tr>\n",
       "  </tbody>\n",
       "</table>\n",
       "</div>"
      ],
      "text/plain": [
       "  col1  new_idx\n",
       "0    a        1\n",
       "1    b        2\n",
       "0    c        3\n",
       "1    d        4"
      ]
     },
     "execution_count": 33,
     "metadata": {},
     "output_type": "execute_result"
    }
   ],
   "source": [
    "df.compute()"
   ]
  },
  {
   "cell_type": "markdown",
   "id": "2c2484bb-53ea-4509-bdfa-a3bd6bae74e2",
   "metadata": {},
   "source": [
    "# Cull empty partitions"
   ]
  },
  {
   "cell_type": "code",
   "execution_count": 60,
   "id": "af6051d9-0859-49d5-9215-7de08ea2d466",
   "metadata": {},
   "outputs": [],
   "source": [
    "def cull_empty_partitions(df):                                                                      \n",
    "    ll = list(df.map_partitions(len).compute())                                                     \n",
    "    df_delayed = df.to_delayed()                                                                    \n",
    "    df_delayed_new = list()                                                                         \n",
    "    pempty = None                                                                                   \n",
    "    for ix, n in enumerate(ll):                                                                     \n",
    "        if n == 0:                                                                                  \n",
    "            pempty = df.get_partition(ix)                                                           \n",
    "            print(f'culling partition {ix}')                                                 \n",
    "        else:                                                                                       \n",
    "            df_delayed_new.append(df_delayed[ix])                                                   \n",
    "    if pempty is not None:                                                                          \n",
    "        df = dd.from_delayed(df_delayed_new, meta=pempty)                                           \n",
    "    return df"
   ]
  },
  {
   "cell_type": "code",
   "execution_count": 50,
   "id": "f8b363f0-d94c-4295-9154-6ab32edfeb29",
   "metadata": {},
   "outputs": [
    {
     "data": {
      "text/html": [
       "<div>\n",
       "<style scoped>\n",
       "    .dataframe tbody tr th:only-of-type {\n",
       "        vertical-align: middle;\n",
       "    }\n",
       "\n",
       "    .dataframe tbody tr th {\n",
       "        vertical-align: top;\n",
       "    }\n",
       "\n",
       "    .dataframe thead th {\n",
       "        text-align: right;\n",
       "    }\n",
       "</style>\n",
       "<table border=\"1\" class=\"dataframe\">\n",
       "  <thead>\n",
       "    <tr style=\"text-align: right;\">\n",
       "      <th></th>\n",
       "      <th>col1</th>\n",
       "    </tr>\n",
       "  </thead>\n",
       "  <tbody>\n",
       "    <tr>\n",
       "      <th>0</th>\n",
       "      <td>a</td>\n",
       "    </tr>\n",
       "    <tr>\n",
       "      <th>1</th>\n",
       "      <td>b</td>\n",
       "    </tr>\n",
       "    <tr>\n",
       "      <th>2</th>\n",
       "      <td>c</td>\n",
       "    </tr>\n",
       "    <tr>\n",
       "      <th>3</th>\n",
       "      <td>c</td>\n",
       "    </tr>\n",
       "  </tbody>\n",
       "</table>\n",
       "</div>"
      ],
      "text/plain": [
       "  col1\n",
       "0    a\n",
       "1    b\n",
       "2    c\n",
       "3    c"
      ]
     },
     "execution_count": 50,
     "metadata": {},
     "output_type": "execute_result"
    }
   ],
   "source": [
    "d = {'col1': [\"a\", \"b\", \"c\", \"c\"]}\n",
    "df = dd.from_pandas(pd.DataFrame(data=d), npartitions=2)\n",
    "df.compute()"
   ]
  },
  {
   "cell_type": "code",
   "execution_count": 52,
   "id": "1a6c6ebd-dc51-4fd0-8213-ea016479c6a2",
   "metadata": {},
   "outputs": [
    {
     "data": {
      "text/html": [
       "<div>\n",
       "<style scoped>\n",
       "    .dataframe tbody tr th:only-of-type {\n",
       "        vertical-align: middle;\n",
       "    }\n",
       "\n",
       "    .dataframe tbody tr th {\n",
       "        vertical-align: top;\n",
       "    }\n",
       "\n",
       "    .dataframe thead th {\n",
       "        text-align: right;\n",
       "    }\n",
       "</style>\n",
       "<table border=\"1\" class=\"dataframe\">\n",
       "  <thead>\n",
       "    <tr style=\"text-align: right;\">\n",
       "      <th></th>\n",
       "      <th>col1</th>\n",
       "    </tr>\n",
       "  </thead>\n",
       "  <tbody>\n",
       "    <tr>\n",
       "      <th>0</th>\n",
       "      <td>a</td>\n",
       "    </tr>\n",
       "    <tr>\n",
       "      <th>1</th>\n",
       "      <td>b</td>\n",
       "    </tr>\n",
       "  </tbody>\n",
       "</table>\n",
       "</div>"
      ],
      "text/plain": [
       "  col1\n",
       "0    a\n",
       "1    b"
      ]
     },
     "execution_count": 52,
     "metadata": {},
     "output_type": "execute_result"
    }
   ],
   "source": [
    "df.partitions[0].compute()"
   ]
  },
  {
   "cell_type": "code",
   "execution_count": 55,
   "id": "ec400942-a9e1-4ea2-98ea-059f6dc1a0d9",
   "metadata": {},
   "outputs": [
    {
     "data": {
      "text/html": [
       "<div>\n",
       "<style scoped>\n",
       "    .dataframe tbody tr th:only-of-type {\n",
       "        vertical-align: middle;\n",
       "    }\n",
       "\n",
       "    .dataframe tbody tr th {\n",
       "        vertical-align: top;\n",
       "    }\n",
       "\n",
       "    .dataframe thead th {\n",
       "        text-align: right;\n",
       "    }\n",
       "</style>\n",
       "<table border=\"1\" class=\"dataframe\">\n",
       "  <thead>\n",
       "    <tr style=\"text-align: right;\">\n",
       "      <th></th>\n",
       "      <th>col1</th>\n",
       "    </tr>\n",
       "  </thead>\n",
       "  <tbody>\n",
       "    <tr>\n",
       "      <th>0</th>\n",
       "      <td>a</td>\n",
       "    </tr>\n",
       "    <tr>\n",
       "      <th>1</th>\n",
       "      <td>b</td>\n",
       "    </tr>\n",
       "  </tbody>\n",
       "</table>\n",
       "</div>"
      ],
      "text/plain": [
       "  col1\n",
       "0    a\n",
       "1    b"
      ]
     },
     "execution_count": 55,
     "metadata": {},
     "output_type": "execute_result"
    }
   ],
   "source": [
    "df_filtered = df[df[\"col1\"]!=\"c\"]\n",
    "df_filtered.compute()"
   ]
  },
  {
   "cell_type": "code",
   "execution_count": 56,
   "id": "71e5ecdd-7b80-4c8b-b06f-1b84213aae7a",
   "metadata": {},
   "outputs": [
    {
     "data": {
      "text/plain": [
       "2"
      ]
     },
     "execution_count": 56,
     "metadata": {},
     "output_type": "execute_result"
    }
   ],
   "source": [
    "df_filtered.npartitions"
   ]
  },
  {
   "cell_type": "code",
   "execution_count": 61,
   "id": "646c0da6-b10d-4fce-bdd2-b52c7dfebf6d",
   "metadata": {},
   "outputs": [
    {
     "name": "stdout",
     "output_type": "stream",
     "text": [
      "culling partition 1\n"
     ]
    },
    {
     "data": {
      "text/plain": [
       "1"
      ]
     },
     "execution_count": 61,
     "metadata": {},
     "output_type": "execute_result"
    }
   ],
   "source": [
    "cull_empty_partitions(df_filtered).npartitions"
   ]
  },
  {
   "cell_type": "markdown",
   "id": "7413ee83-5e1b-46ee-8c8f-25274449230d",
   "metadata": {},
   "source": [
    "# Merge tiny partitions"
   ]
  },
  {
   "cell_type": "code",
   "execution_count": null,
   "id": "3a2e2072-57f8-4c0b-b155-b05b4d7ca80b",
   "metadata": {},
   "outputs": [],
   "source": [
    "def merge_tiny_partitions(df, index_length_threshold=100):                                          \n",
    "    ''' Useful after concatenating with interleave_partitions at True                               \n",
    "    First partition is merged with the next one, other partitions are merged with the previous ones \n",
    "    '''                                                                                             \n",
    "    divisions = df.divisions                                                                        \n",
    "    assert isinstance(divisions[0], (int, np.integer)), 'Not implemented'                           \n",
    "    new_divisions = [divisions[0]]                                                                  \n",
    "    if len(divisions) <= 2:                                                                         \n",
    "        return df                                                                                   \n",
    "    for i in divisions[1:]:                                                                         \n",
    "        if i - new_divisions[-1] > index_length_threshold:                                          \n",
    "            new_divisions.append(i)                                                                 \n",
    "    if len(new_divisions) == 1:                                                                     \n",
    "        new_divisions.append(divisions[-1])                                                         \n",
    "    else:                                                                                           \n",
    "        new_divisions[-1] = divisions[-1]                                                           \n",
    "                                                                                                    \n",
    "    if len(new_divisions) < len(divisions):                                                         \n",
    "        df = df.repartition(divisions=new_divisions)                                                \n",
    "    return df"
   ]
  }
 ],
 "metadata": {
  "kernelspec": {
   "display_name": "Python 3",
   "language": "python",
   "name": "python3"
  },
  "language_info": {
   "codemirror_mode": {
    "name": "ipython",
    "version": 3
   },
   "file_extension": ".py",
   "mimetype": "text/x-python",
   "name": "python",
   "nbconvert_exporter": "python",
   "pygments_lexer": "ipython3",
   "version": "3.8.8"
  }
 },
 "nbformat": 4,
 "nbformat_minor": 5
}
